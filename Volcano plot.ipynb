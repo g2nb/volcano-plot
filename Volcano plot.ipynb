{
 "cells": [
  {
   "cell_type": "markdown",
   "id": "respiratory-increase",
   "metadata": {},
   "source": [
    "<div class=\"well well-sm\">  \n",
    "    \n",
    "This notebook is under development. For suggestions or feature request post your question at the [GenePattern help forum](https://groups.google.com/g/genepattern-help)\n",
    "</div>"
   ]
  },
  {
   "cell_type": "markdown",
   "id": "military-eligibility",
   "metadata": {},
   "source": [
    "<div class=\"alert alert-info\">\n",
    "<p class=\"lead\"> Instructions <i class=\"fa fa-info-circle\"></i></p>\n",
    "Upload file (or type the name of a file that exists in the same directory as this notebook) and choose the separator (either tab-separated or comma-separated files are supperted for now).\n",
    "    \n",
    "Note: This project contains a text file called DESeq2_sample.txt which is the output of the DESeq2 module for reference.\n",
    "</div>"
   ]
  },
  {
   "cell_type": "code",
   "execution_count": 1,
   "id": "reported-harris",
   "metadata": {
    "nbtools": {
     "description": "",
     "name": "read_file",
     "origin": "Notebook",
     "param_values": {
      "filename": [
       "DESeq2_sample.txt"
      ],
      "output_var": "df",
      "sep": "\t"
     },
     "show_code": false,
     "type": "uibuilder"
    }
   },
   "outputs": [
    {
     "data": {
      "application/vnd.jupyter.widget-view+json": {
       "model_id": "b0b15ee6c8114a7f9991c8b0aa9eca86",
       "version_major": 2,
       "version_minor": 0
      },
      "text/plain": [
       "UIBuilder(function_import='nbtools.tool(id=\"read_file\", origin=\"Notebook\").function_or_method', name='read_fil…"
      ]
     },
     "metadata": {},
     "output_type": "display_data"
    },
    {
     "data": {
      "application/javascript": [
       "\n",
       "            NBToolManager.instance().register(new NBToolManager.NBTool({\n",
       "                origin: \"Notebook\",\n",
       "                id: \"read_file\",\n",
       "                name: \"read_file\",\n",
       "                description: \"\",\n",
       "                version: \"null\",\n",
       "                tags: null,\n",
       "                attributes: null,\n",
       "                load: function() { return true; },\n",
       "                render: function() { let code = \"nbtools.tool(id='read_file', origin='Notebook')\";\n",
       "                let cell = Jupyter.notebook.get_selected_cell();\n",
       "                const is_empty = cell.get_text().trim() === \"\";\n",
       "\n",
       "                // If this cell is not empty, insert a new cell and use that\n",
       "                // Otherwise just use this cell\n",
       "                if (!is_empty) {\n",
       "                    cell = Jupyter.notebook.insert_cell_below();\n",
       "                    Jupyter.notebook.select_next();\n",
       "                }\n",
       "\n",
       "                cell.set_text(code);\n",
       "                cell.execute();\n",
       "\n",
       "                return cell; },\n",
       "            }));"
      ]
     },
     "metadata": {},
     "output_type": "display_data"
    }
   ],
   "source": [
    "import pandas as pd\n",
    "@genepattern.build_ui(parameters={\n",
    "    \"filename\": {\n",
    "        \"type\": \"file\"\n",
    "    },\n",
    "    \"sep\": {\n",
    "        \"default\": '\\t',\n",
    "        \"type\":\"choice\",\n",
    "        \"choices\": {\n",
    "            ',': ',',\n",
    "            \"Tab (\\\\t)\": '\\t',\n",
    "        }\n",
    "        },\n",
    "    \"output_var\": {\n",
    "        \"name\": \"df\",\n",
    "        \"default\": \"df\",\n",
    "        \"hide\": True,\n",
    "    },\n",
    "})\n",
    "def read_file(filename,sep):\n",
    "    df = pd.read_csv(filename,index_col=0,sep=sep)\n",
    "    display(df.head())\n",
    "    print('These are the columns you can choose from:\\n')\n",
    "    print('\\n'.join(df.columns.values))\n",
    "    return df"
   ]
  },
  {
   "cell_type": "markdown",
   "id": "beautiful-capacity",
   "metadata": {},
   "source": [
    "<div class=\"alert alert-info\">\n",
    "<p class=\"lead\"> Instructions <i class=\"fa fa-info-circle\"></i></p>  \n",
    "\n",
    "    \n",
    "From the columns of the DataFrame read above, select the ones you want as your x-axis and y-axis. You may choose to compute the log of those variables.\n",
    "    \n",
    "Note: For the sample data, the parameters are:  \n",
    "    \n",
    "- x-axis: log2 fold change (MLE): Factor EPZ6438 vs DMSO\n",
    "- Transform x axis: False\n",
    "- y-axis: Wald test p-value: Factor EPZ6438 vs DMSO\n",
    "- Transform y axis: -log10(y_axis)\n",
    "</div>"
   ]
  },
  {
   "cell_type": "code",
   "execution_count": 6,
   "id": "offensive-planner",
   "metadata": {
    "nbtools": {
     "description": "",
     "name": "make_plot",
     "origin": "Notebook",
     "param_values": {
      "compute_log10": "true",
      "compute_log2": "false",
      "output_var": "",
      "x_axis": "log2 fold change (MLE): Factor EPZ6438 vs DMSO",
      "y_axis": "Wald test p-value: Factor EPZ6438 vs DMSO"
     },
     "show_code": false,
     "type": "uibuilder"
    }
   },
   "outputs": [
    {
     "data": {
      "application/vnd.jupyter.widget-view+json": {
       "model_id": "3bafb0d640c74ad4a7b6fa5153ea04a7",
       "version_major": 2,
       "version_minor": 0
      },
      "text/plain": [
       "UIBuilder(function_import='nbtools.tool(id=\"make_plot\", origin=\"Notebook\").function_or_method', name='make_plo…"
      ]
     },
     "metadata": {},
     "output_type": "display_data"
    },
    {
     "data": {
      "application/javascript": [
       "\n",
       "            NBToolManager.instance().register(new NBToolManager.NBTool({\n",
       "                origin: \"Notebook\",\n",
       "                id: \"make_plot\",\n",
       "                name: \"make_plot\",\n",
       "                description: \"\",\n",
       "                version: \"null\",\n",
       "                tags: null,\n",
       "                attributes: null,\n",
       "                load: function() { return true; },\n",
       "                render: function() { let code = \"nbtools.tool(id='make_plot', origin='Notebook')\";\n",
       "                let cell = Jupyter.notebook.get_selected_cell();\n",
       "                const is_empty = cell.get_text().trim() === \"\";\n",
       "\n",
       "                // If this cell is not empty, insert a new cell and use that\n",
       "                // Otherwise just use this cell\n",
       "                if (!is_empty) {\n",
       "                    cell = Jupyter.notebook.insert_cell_below();\n",
       "                    Jupyter.notebook.select_next();\n",
       "                }\n",
       "\n",
       "                cell.set_text(code);\n",
       "                cell.execute();\n",
       "\n",
       "                return cell; },\n",
       "            }));"
      ]
     },
     "metadata": {},
     "output_type": "display_data"
    }
   ],
   "source": [
    "\n",
    "import urllib.request\n",
    "import urllib.parse\n",
    "import os\n",
    "import genepattern\n",
    "\n",
    "\n",
    "# Import packages\n",
    "import numpy as np\n",
    "import plotly.graph_objects as go\n",
    "import plotly.express as px\n",
    "\n",
    "x_axis = 'ratio_1d'\n",
    "y_axis = 'qval_1d'\n",
    "\n",
    "compute_log10 = True\n",
    "\n",
    "@genepattern.build_ui(parameters={\n",
    "    \"x_axis\": {\n",
    "        \"type\": \"text\",\n",
    "        \"description\":\"Full name of the column containing fold change\",\n",
    "    },\n",
    "    \"y_axis\": {\n",
    "        \"type\": \"text\",\n",
    "        \"description\":\"Full name of the column containing p-values\",\n",
    "    },\n",
    "    \"compute_log10\": {\n",
    "        \"name\":\"Transform y_axis\",\n",
    "        \"type\":\"choice\",\n",
    "        \"default\": True,\n",
    "        \"choices\": {\n",
    "            \"-log10(y_axis)\": True,\n",
    "            \"False\": False,\n",
    "        }\n",
    "    },\n",
    "    \"compute_log2\": {\n",
    "        \"name\":\"Transform x_axis\",\n",
    "        \"default\": False,\n",
    "        \"type\":\"choice\",\n",
    "        \"choices\": {\n",
    "            \"log2(x_axis)\": True,\n",
    "            \"False\": False,\n",
    "        }\n",
    "    }, \n",
    "    \"output_var\": {\n",
    "        \"hide\": True,\n",
    "    },\n",
    "})\n",
    "def make_plot(x_axis, compute_log2,y_axis,compute_log10):\n",
    "    # Plot volcano plot\n",
    "    fig = go.Figure()\n",
    "    \n",
    "    if (compute_log10 and compute_log2):\n",
    "        y_flipped = f'-log10({y_axis})'\n",
    "        df[y_flipped] = np.log10(df[y_axis]) * (-1)\n",
    "        x_log = f'-log2({x_axis})'\n",
    "        df[x_log] = np.log2(df[x_axis])\n",
    "        \n",
    "        fig_d1 = px.scatter(df, x=x_log, y=y_flipped)\n",
    "    elif compute_log10:\n",
    "        y_flipped = f'-log10({y_axis})'\n",
    "        df[y_flipped] = np.log10(df[y_axis]) * (-1)\n",
    "        fig_d1 = px.scatter(df, x=x_axis, y=y_flipped)\n",
    "    elif compute_log2:\n",
    "        x_log = f'-log2({x_axis})'\n",
    "        df[x_log] = np.log2(df[x_axis])\n",
    "        fig_d1 = px.scatter(df, x=x_log, y=y_axis)\n",
    "    else:\n",
    "        fig_d1 = px.scatter(df, x=x_axis, y=y_axis)\n",
    "\n",
    "\n",
    "    # Plot volcano plot with text\n",
    "    \n",
    "    fig_d1.update_traces(textposition='top center')\n",
    "#     fig_d1.update_layout(title_text='Volcano plot for seronegatives (day 1)')\n",
    "    fig_d1.show()"
   ]
  },
  {
   "cell_type": "code",
   "execution_count": null,
   "id": "billion-going",
   "metadata": {},
   "outputs": [],
   "source": []
  }
 ],
 "metadata": {
  "kernelspec": {
   "display_name": "Python 3.8",
   "language": "python",
   "name": "python3.8"
  },
  "language_info": {
   "codemirror_mode": {
    "name": "ipython",
    "version": 3
   },
   "file_extension": ".py",
   "mimetype": "text/x-python",
   "name": "python",
   "nbconvert_exporter": "python",
   "pygments_lexer": "ipython3",
   "version": "3.8.8"
  },
  "toc": {
   "base_numbering": 1,
   "nav_menu": {},
   "number_sections": false,
   "sideBar": true,
   "skip_h1_title": false,
   "title_cell": "Table of Contents",
   "title_sidebar": "Contents",
   "toc_cell": false,
   "toc_position": {},
   "toc_section_display": true,
   "toc_window_display": false
  }
 },
 "nbformat": 4,
 "nbformat_minor": 5
}
